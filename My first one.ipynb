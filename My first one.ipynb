{
    "cells": [
        {
            "cell_type": "markdown",
            "metadata": {
                "collapsed": true
            },
            "source": "# Voici mon notebook"
        },
        {
            "cell_type": "code",
            "execution_count": 1,
            "metadata": {},
            "outputs": [],
            "source": "import pandas as pd\nimport numpy as np"
        },
        {
            "cell_type": "code",
            "execution_count": 3,
            "metadata": {},
            "outputs": [
                {
                    "data": {
                        "text/plain": "['/home/wsuser/work',\n '/opt/conda/envs/Python-3.10/lib/python310.zip',\n '/opt/conda/envs/Python-3.10/lib/python3.10',\n '/opt/conda/envs/Python-3.10/lib/python3.10/lib-dynload',\n '',\n '/home/wsuser/.local/lib/python3.10/site-packages',\n '/opt/conda/envs/Python-3.10/lib/python3.10/site-packages']"
                    },
                    "execution_count": 3,
                    "metadata": {},
                    "output_type": "execute_result"
                }
            ],
            "source": "from sys import path\npath"
        },
        {
            "cell_type": "code",
            "execution_count": 4,
            "metadata": {},
            "outputs": [
                {
                    "data": {
                        "text/html": "<div>\n<style scoped>\n    .dataframe tbody tr th:only-of-type {\n        vertical-align: middle;\n    }\n\n    .dataframe tbody tr th {\n        vertical-align: top;\n    }\n\n    .dataframe thead th {\n        text-align: right;\n    }\n</style>\n<table border=\"1\" class=\"dataframe\">\n  <thead>\n    <tr style=\"text-align: right;\">\n      <th></th>\n      <th>1818</th>\n      <th>01</th>\n      <th>01.1</th>\n      <th>1818.004</th>\n      <th>-1</th>\n      <th>1</th>\n    </tr>\n  </thead>\n  <tbody>\n    <tr>\n      <th>0</th>\n      <td>1818</td>\n      <td>1</td>\n      <td>2</td>\n      <td>1818.007</td>\n      <td>-1</td>\n      <td>1</td>\n    </tr>\n    <tr>\n      <th>1</th>\n      <td>1818</td>\n      <td>1</td>\n      <td>3</td>\n      <td>1818.010</td>\n      <td>-1</td>\n      <td>1</td>\n    </tr>\n    <tr>\n      <th>2</th>\n      <td>1818</td>\n      <td>1</td>\n      <td>4</td>\n      <td>1818.012</td>\n      <td>-1</td>\n      <td>1</td>\n    </tr>\n    <tr>\n      <th>3</th>\n      <td>1818</td>\n      <td>1</td>\n      <td>5</td>\n      <td>1818.015</td>\n      <td>-1</td>\n      <td>1</td>\n    </tr>\n    <tr>\n      <th>4</th>\n      <td>1818</td>\n      <td>1</td>\n      <td>6</td>\n      <td>1818.018</td>\n      <td>-1</td>\n      <td>1</td>\n    </tr>\n  </tbody>\n</table>\n</div>",
                        "text/plain": "   1818  01  01.1  1818.004   -1  1\n0  1818   1     2  1818.007   -1  1\n1  1818   1     3  1818.010   -1  1\n2  1818   1     4  1818.012   -1  1\n3  1818   1     5  1818.015   -1  1\n4  1818   1     6  1818.018   -1  1"
                    },
                    "execution_count": 4,
                    "metadata": {},
                    "output_type": "execute_result"
                }
            ],
            "source": "# The code was removed by Watson Studio for sharing."
        },
        {
            "cell_type": "code",
            "execution_count": 5,
            "metadata": {},
            "outputs": [
                {
                    "name": "stdout",
                    "output_type": "stream",
                    "text": "<class 'pandas.core.frame.DataFrame'>\nRangeIndex: 72103 entries, 0 to 72102\nData columns (total 6 columns):\n #   Column    Non-Null Count  Dtype  \n---  ------    --------------  -----  \n 0   1818      72103 non-null  int64  \n 1   01        72103 non-null  int64  \n 2   01.1      72103 non-null  int64  \n 3   1818.004  72103 non-null  float64\n 4    -1       72103 non-null  int64  \n 5   1         72103 non-null  int64  \ndtypes: float64(1), int64(5)\nmemory usage: 3.3 MB\n"
                },
                {
                    "data": {
                        "text/html": "<div>\n<style scoped>\n    .dataframe tbody tr th:only-of-type {\n        vertical-align: middle;\n    }\n\n    .dataframe tbody tr th {\n        vertical-align: top;\n    }\n\n    .dataframe thead th {\n        text-align: right;\n    }\n</style>\n<table border=\"1\" class=\"dataframe\">\n  <thead>\n    <tr style=\"text-align: right;\">\n      <th></th>\n      <th>1818</th>\n      <th>01</th>\n      <th>01.1</th>\n      <th>1818.004</th>\n      <th>-1</th>\n      <th>1</th>\n    </tr>\n  </thead>\n  <tbody>\n    <tr>\n      <th>count</th>\n      <td>72103.000000</td>\n      <td>72103.000000</td>\n      <td>72103.000000</td>\n      <td>72103.000000</td>\n      <td>72103.000000</td>\n      <td>72103.000000</td>\n    </tr>\n    <tr>\n      <th>mean</th>\n      <td>1916.208909</td>\n      <td>6.515734</td>\n      <td>15.729387</td>\n      <td>1916.709104</td>\n      <td>51.310986</td>\n      <td>0.997906</td>\n    </tr>\n    <tr>\n      <th>std</th>\n      <td>56.988455</td>\n      <td>3.449405</td>\n      <td>8.799845</td>\n      <td>56.986961</td>\n      <td>51.158894</td>\n      <td>0.045715</td>\n    </tr>\n    <tr>\n      <th>min</th>\n      <td>1818.000000</td>\n      <td>1.000000</td>\n      <td>1.000000</td>\n      <td>1818.007000</td>\n      <td>-1.000000</td>\n      <td>0.000000</td>\n    </tr>\n    <tr>\n      <th>25%</th>\n      <td>1867.000000</td>\n      <td>4.000000</td>\n      <td>8.000000</td>\n      <td>1867.358000</td>\n      <td>10.000000</td>\n      <td>1.000000</td>\n    </tr>\n    <tr>\n      <th>50%</th>\n      <td>1916.000000</td>\n      <td>7.000000</td>\n      <td>16.000000</td>\n      <td>1916.709000</td>\n      <td>37.000000</td>\n      <td>1.000000</td>\n    </tr>\n    <tr>\n      <th>75%</th>\n      <td>1966.000000</td>\n      <td>10.000000</td>\n      <td>23.000000</td>\n      <td>1966.060500</td>\n      <td>79.000000</td>\n      <td>1.000000</td>\n    </tr>\n    <tr>\n      <th>max</th>\n      <td>2015.000000</td>\n      <td>12.000000</td>\n      <td>31.000000</td>\n      <td>2015.411000</td>\n      <td>355.000000</td>\n      <td>1.000000</td>\n    </tr>\n  </tbody>\n</table>\n</div>",
                        "text/plain": "               1818            01          01.1      1818.004            -1  \\\ncount  72103.000000  72103.000000  72103.000000  72103.000000  72103.000000   \nmean    1916.208909      6.515734     15.729387   1916.709104     51.310986   \nstd       56.988455      3.449405      8.799845     56.986961     51.158894   \nmin     1818.000000      1.000000      1.000000   1818.007000     -1.000000   \n25%     1867.000000      4.000000      8.000000   1867.358000     10.000000   \n50%     1916.000000      7.000000     16.000000   1916.709000     37.000000   \n75%     1966.000000     10.000000     23.000000   1966.060500     79.000000   \nmax     2015.000000     12.000000     31.000000   2015.411000    355.000000   \n\n                  1  \ncount  72103.000000  \nmean       0.997906  \nstd        0.045715  \nmin        0.000000  \n25%        1.000000  \n50%        1.000000  \n75%        1.000000  \nmax        1.000000  "
                    },
                    "execution_count": 5,
                    "metadata": {},
                    "output_type": "execute_result"
                }
            ],
            "source": "df_data_1.info()\ndf_data_1.describe()"
        },
        {
            "cell_type": "code",
            "execution_count": null,
            "metadata": {},
            "outputs": [],
            "source": ""
        }
    ],
    "metadata": {
        "kernelspec": {
            "display_name": "Python 3.10",
            "language": "python",
            "name": "python3"
        },
        "language_info": {
            "codemirror_mode": {
                "name": "ipython",
                "version": 3
            },
            "file_extension": ".py",
            "mimetype": "text/x-python",
            "name": "python",
            "nbconvert_exporter": "python",
            "pygments_lexer": "ipython3",
            "version": "3.10.6"
        }
    },
    "nbformat": 4,
    "nbformat_minor": 1
}